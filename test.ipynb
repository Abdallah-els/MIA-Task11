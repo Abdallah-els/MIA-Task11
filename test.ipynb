{
 "cells": [
  {
   "cell_type": "markdown",
   "id": "5b492584",
   "metadata": {},
   "source": [
    "### Imporing libraries"
   ]
  },
  {
   "cell_type": "code",
   "execution_count": null,
   "id": "06d4850a",
   "metadata": {},
   "outputs": [],
   "source": [
    "import cv2"
   ]
  },
  {
   "cell_type": "markdown",
   "id": "98907b5a",
   "metadata": {},
   "source": [
    "### reading img"
   ]
  },
  {
   "cell_type": "code",
   "execution_count": null,
   "id": "59a4bf59",
   "metadata": {},
   "outputs": [],
   "source": [
    "img = cv2.read(\"test.jpg\")"
   ]
  }
 ],
 "metadata": {
  "kernelspec": {
   "display_name": "Python 3",
   "language": "python",
   "name": "python3"
  },
  "language_info": {
   "name": "python",
   "version": "3.9.13"
  }
 },
 "nbformat": 4,
 "nbformat_minor": 5
}
